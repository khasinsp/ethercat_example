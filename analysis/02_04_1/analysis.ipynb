{
 "cells": [
  {
   "cell_type": "markdown",
   "metadata": {},
   "source": [
    "# Loop time measurement EtherCAT communication\n",
    "    EtherCAT VM <-> FT Sensor\n",
    "    connected over switch\n",
    "## Stress\n",
    "    6 CPU cores (non-isolated)\n",
    "    800 Mbit/s Net Stress\n",
    "    Throttling"
   ]
  },
  {
   "cell_type": "code",
   "execution_count": 1,
   "metadata": {},
   "outputs": [],
   "source": [
    "import numpy as np\n",
    "import pandas as pd\n",
    "import matplotlib.pyplot as plt\n",
    "import plotly.graph_objects as go"
   ]
  },
  {
   "cell_type": "code",
   "execution_count": 2,
   "metadata": {},
   "outputs": [
    {
     "data": {
      "application/vnd.plotly.v1+json": {
       "config": {
        "plotlyServerURL": "https://plot.ly"
       },
       "data": [
        {
         "mode": "lines",
         "name": "Loop Time",
         "type": "scatter",
         "x": {
          "bdata": "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",
          "dtype": "f8"
         },
         "y": {
          "bdata": "AAAAAAAAAAAAAAAAAAAAAK0AAACeLvkGPhy0ARfOYgAEhxMAOUIEAMemAQANpgEAKGQBAMgVAQB+5gAAmTQBAN48AQDFPwEAulgBAN8+AQCE5gAA36EAAJaNAABPiAAAdZwAAGTqAACwKgEAPR0BAJX2AAB52QAAMZMAANJdAADUNAAAmB4AAJYSAACUCwAAzgcAAKIFAAA8BAAAwwMAAOsCAAB/AgAAIgIAAKsBAABzAQAAUAEAAPIAAACuAAAAjQAAAHYAAABTAAAAVQAAADoAAABCAAAAOQAAADsAAAAuAAAAHwAAACYAAAAlAAAAHwAAABgAAAAbAAAAHAAAABsAAAAXAAAAKAAAACAAAAAgAAAAHwAAABYAAAAdAAAAIAAAADMAAAAeAAAAGAAAABMAAAAUAAAAHwAAACEAAAATAAAAFwAAABwAAAAtAAAAFwAAABsAAAAOAAAALAAAACYAAAAPAAAAHAAAABIAAAAtAAAACgAAABAAAAAKAAAADgAAAAoAAAAFAAAACgAAAA0AAAAJAAAADQAAAA8AAAAdAAAAEAAAAAQAAAADAAAAAQAAAAAAAAACAAAAAgAAAAAAAAAAAAAAAgAAAAAAAAAAAAAAAAAAAAEAAAAAAAAAAAAAAAAAAAAAAAAAAAAAAAAAAAABAAAAAQAAAAAAAAAAAAAAAAAAAAEAAAAAAAAAAAAAAAAAAAAAAAAAAAAAAAAAAAAAAAAAAAAAAAAAAAAAAAAAAAAAAAAAAAAAAAAAAAAAAAAAAAAAAAAAAAAAAAAAAAAAAAAAAAAAAAAAAAAAAAAAAAAAAAAAAAAAAAAAAAAAAAAAAAAAAAAAAAAAAAAAAAAAAAAAAAAAAAAAAAAAAAAAAAAAAAAAAAAAAAAAAAAAAAAAAAAAAAAAAAAAAAAAAAAAAAAAAAAAAAAAAAAAAAAAAAAAAAAAAAAAAAAAAAAAAAAAAAAAAAAAAAAAAAAAAAAAAAAAAAAAAAAAAAAAAAAAAAAAAAAAAAAAAAAAAAAAAAAAAAAAAAAAAAAAAAAAAAAAAAAAAAAAAAAAAAAAAAAAAAAAAAAAAAAAAAAAAAAAAAAAAAAAAAAAAAAAAAAAAAAAAAAAAAAAAAAAAAAAAAAAAAAAAAAAAAAAAAAAAAAAAAAAAAAAAAAAAAAAAAAAAAAAAAAAAAAAAAAAAAAAAAAAAAAAAAAAAAAAAAAAAAAAAAAAAAAAAAAAAAAAAAAAAAAAAAAAAAAAAAAAAAAAAAAAAAAAAAAAAAAAAAAAAAAAAAAAAAAAAAAAAAAAAAAAAAAAAAAAAAAAAAAAAAAAAAAAAAAAAAAAAAAAAAAAAAAAAAAAAAAAAAAAAAAAAAAAAAAAAAAAAAAAAAAAAAAAAAAAAAAAAAAAAAAAAAAAAAAAAAAAAAAAAAAAAAAAAAAAAAAAAAAAAAAAAAAAAAAAAAAAAAAAAAAAAAAAAAAAAAAAAAAAAAAAAAAAAAAAAAAAAAAAAAAAAAAAAAAAAAAAAAAAAAAAAAAAAAAAAAAAAAAAAAAAAAAAAAAAAAAAAAAAAAAAAAAAAAAAAAAAAAAAAAAAAAAAAAAAAAAAAAAAAAAAAAAAAAAAAAAAAAAAAAAAAAAAAAAAAAAAAAAAAAAAAAAAAAAAAAAAAAAAAAAAAAAAAAAAAAAAAAAAAAAAAAAAAAAAAAAAAAAAAAAAAAAAAAAAAAAAAAAAAAAAAAAAAAAAAAAAAAAAAAAAAAAAAAAAAAAAAAAAAAAAAAAAAAAAAAAAAAAAAAAAAAAAAAAAAAAAAAAAAAAAAAAAAAAAAAAAAAAAAAAAAAAAAAAAAAAAAAAAAAAAAAAAAAAAAAAAAAAAAAAAAAAAAAAAAAAAAAAAAAAAAAAAAAAAAAAAAAAAAAAAAAAAAAAAAAAAAAAAAAAAAAAAAAAAAAAAAAAAAAAAAAAAAAAAAAAAAAAAAAAAAAAAAAAAAAAAAAAAAAAAAAAAAAAAAAAAAAAAAAAAAAAAAAAAAAAAAAAAAAAAAAAAAAAAAAAAAAAAAAAAAAAAAAAAAAAAAAAAAAAAAAAAAAAAAAAAAAAAAAAAAAAAAAAAAAAAAAAAAAAAAAAAAAAAAAAAAAAAAAAAAAAAAAAAAAAAAAAAAAAAAAAAAAAAAAAAAAAAAAAAAAAAAAAAAAAAAAAAAAAAAAAAAAAAAAAAAAAAAAAAAAAAAAAAAAAAAAAAAAAAAAAAAAAAAAAAAAAAAAAAAAAAAAAAAAAAAAAAAAAAAAAAAAAAAAAAAAAAAAAAAAAAAAAAAAAAAAAAAAAAAAAAAAAAAAAAAAAAAAAAAAAAAAAAAAAAAAAAAAAAAAAAAAAAAAAAAAAAAAAAAAAAAAAAAAAAAAAAAAAAAAAAAAAAAAAAAAAAAAAAAAAAAAAAAAAAAAAAAAAAAAAAAAAAAAAAAAAAAAAAAAAAAAAAAAAAAAAAAAAAAAAAAAAAAAAAAAAAAAAAAAAAAAAAAAAAAAAAAAAAAAAAAAAAAAAAAAAAAAAAAAAAAAAAAAAAAAAAAAAAAAAAAAAAAAAAAAAAAAAAAAAAAAAAAAAAAAAAAAAAAAAAAAAAAAAAAAAAAAAAAAAAAAAAAAAAAAAAAAAAAAAAAAAAAAAAAAAAAAAAAAAAAAAAAAAAAAAAAAAAAAAAAAAAAAAAAAAAAAAAAAAAAAAAAAAAAAAAAAAAAAAAAAAAAAAAAAAAAAAAAAAAAAAAAAAAAAAAAAAAAAAAAAAAAAAAAAAAAAAAAAAAAAAAAAAAAAAAAAAAAAAAAAAAAAAAAAAAAAAAAAAAAAAAAAAAAAAAAAAAAAAAAAAAAAAAAAAAAAAAAAAAAAAAAAAAAAAAAAAAAAAAAAAAAAAAAAAAAAAAAAAAAAAAAAAAAAAAAAAAAAAAAAAAAAAAAAAAAAAAAAAAAAAAAAAAAAAAAAAAAAAAAAAAAAAAAAAAAAAAAAAAAAAAAAAAAAAAAAAAAAAAAAAAAAAAAAAAAAAAAAAAAAAAAAAAAAAAAAAAAAAAAAAAAAAAAAAAAAAAAAAAAAAAAAAAAAAAAAAAAAAAAAAAAAAAAAAAAAAAAAAAAAAAAAAAAAAAAAAAAAAAAAAAAAAAAAAAAAAAAAAAAAAAAAAAAAAAAAAAAAAAAAAAAAAAAAAAAAAAAAAAAAAAAAAAAAAAAAAAAAAAAAAAAAAAAAAAAAAAAAAAAAAAAAAAAAAAAAAAAAAAAAAAAAAAAAAAAAAAAAAAAAAAAAAAAAAAAAAAAAAAAAAAAAAAAAAAAAAAAAAAAAAAAAAAAAAAAAAAAAAAAAAAAAAAAAAAAAAAAAAAAAAAAAAAAAAAAAAAAAAAAAAAAAAAAAAAAAAAAAAAAAAAAAAAAAAAAAAAAAAAAAAAAAAAAAAAAAAAAAAAAAAAAAAAAAAAAAAAAAAAAAAAAAAAAAAAAAAAAAAAAAAAAAAAAAAAAAAAAAAAAAAAAAAAAAAAAAAAAAAAAAAAAAAAAAAAAAAAAAAAAAAAAAAAAAAAAAAAAAAAAAAAAAAAAAAAAAAAAAAAAAAAAAAAAAAAAAAAAAAAAAAAAAAAAAAAAAAAAAAAAAAAAAAAAAAAAAAAAAAAAAAAAAAAAAAAAAAAAAAAAAAAAAAAAAAAAAAAAAAAAAAAAAAAAAAAAAAAAAAAAAAAAAAAAAAAAAAAAAAAAAAAAAAAAAAAAAAAAAAAAAAAAAAAAAAAAAAAAAAAAAAAAAAAAAAAAAAAAAAAAAAAAAAAAAAAAAAAAAAAAAAAAAAAAAAAAAAAAAAAAAAAAAAAAAAAAAAAAAAAAAAAAAAAAAAAAAAAAAAAAAAAAAAAAAAAAAAAAAAAAAAAAAAAAAAAAAAAAAAAAAAAAAAAAAAAAAAAAAAAAAAAAAAAAAAAAAAAAAAAAAAAAAAAAAAAAAAAAAAAAAAAAAAAAAAAAAAAAAAAAAAAAAAAAAAAAAAAAAAAAAAAAAAAAAAAAAAAAAAAAAAAAAAAAAAAAAAAAAAAAAAAAAAAAAAAAAAAAAAAAAAAAAAAAAAAAAAAAAAAAAAAAAAAAAAAAAAAAAAAAAAAAAAAAAAAAAAAAAAAAAAAAAAAAAAAAAAAAAAAAAAAAAAAAAAAAAAAAAAAAAAAAAAAAAAAAAAAAAAAAAAAAAAAAAAAAAAAAAAAAAAAAAAAAAAAAAAAAAAAAAAAAAAAAAAAAAAAAAAAAAAAAAAAAAAAAAAAAAAAAAAAAAAAAAAAAAAAAAAAAAAAAAAAAAAAAAAAAAAAAAAAAAAAAAAAAAAAAAAAAAAAAAAAAAAAAAAAAAAAAAAAAAAAAAAAAAAAAAAAAAAAAAAAAAAAAAAAAAAAAAAAAAAAAAAAAAAAAAAAAAAAAAAAAAAAAAAAAAAAAAAAAAAAAAAAAAAAAAAAAAAAAAAAAAAAAAAAAAAAAAAAAAAAAAAAAAAAAAAAAAAAAAAAAAAAAAAAAAAAAAAAAAAAAAAAAAAAAAAAAAAAAAAAAAAAAAAAAAAAAAAAAAAAAAAAAAAAAAAAAAAAAAAAAAAAAAAAAAAAAAAAAAAAAAAAAAAAAAAAAAAAAAAAAAAAAAAAAAAAAAAAAAAAAAAAAAAAAAAAAAAAAAAAAAAAAAAAAAAAAAAAAAAAAAAAAAAAAAAAAAAAAAAAAAAAAAAAAAAAAAAAAAAAAAAAAAAAAAAAAAAAAAAAAAAAAAAAAAAAAAAAAAAAAAAAAAAAAAAAAAAAAAAAAAAAAAAAAAAAAAAAAAAAAAAAAAAAAAAAAAAAAAAAAAAAAAAAAAAAAAAAAAAAAAAAAAAAAAAAAAAAAAAAAAAAAAAAAAAAAAAAAAAAAAAAAAAAAAAAAAAAAAAAAAAAAAAAAAAAAAAAAAAAAAAAAAAAAAAAAAAAAAAAAAAAAAAAAAAAAAAAAAAAAAAAAAAAAAAAAAAAAAAAAAAAAAAAAAAAAAAAAAAAAAAAAAAAAAAAAAAAAAAAAAAAAAAAAAAAAAAAAAAAAAAAAAAAAAAAAAAAAAAAAAAAAAAAAAAAAAAAAAAAAAAAAAAAAAAAAAAAAAAAAAAAAAAAAAAAAAAAAAAAAAAAAAAAAAAAAAAAAAAAAAAAAAAAAAAAAAAAAAAAAAAAAAAAAAAAAAAAAAAAAAAAAAAAAAAAAAAAAAAAAAAAAAAAAAAAAAAAAAAAAAAAAAAAAAAAAAAAAAAAAAAAAAAAAAAAAAAAAAAAAAAAAAAAAAAAAAAAAAAAAAAAAAAAAAAAAAAAAAAAAAAAAAAAAAAAAAAAAAAAAAAAAAAAAAAAAAAAAAAAAAAAAAAAAAAAAAAAAAAAAAAAAAAAAAAAAAAAAA==",
          "dtype": "i4"
         }
        }
       ],
       "layout": {
        "height": 600,
        "template": {
         "data": {
          "bar": [
           {
            "error_x": {
             "color": "#2a3f5f"
            },
            "error_y": {
             "color": "#2a3f5f"
            },
            "marker": {
             "line": {
              "color": "#E5ECF6",
              "width": 0.5
             },
             "pattern": {
              "fillmode": "overlay",
              "size": 10,
              "solidity": 0.2
             }
            },
            "type": "bar"
           }
          ],
          "barpolar": [
           {
            "marker": {
             "line": {
              "color": "#E5ECF6",
              "width": 0.5
             },
             "pattern": {
              "fillmode": "overlay",
              "size": 10,
              "solidity": 0.2
             }
            },
            "type": "barpolar"
           }
          ],
          "carpet": [
           {
            "aaxis": {
             "endlinecolor": "#2a3f5f",
             "gridcolor": "white",
             "linecolor": "white",
             "minorgridcolor": "white",
             "startlinecolor": "#2a3f5f"
            },
            "baxis": {
             "endlinecolor": "#2a3f5f",
             "gridcolor": "white",
             "linecolor": "white",
             "minorgridcolor": "white",
             "startlinecolor": "#2a3f5f"
            },
            "type": "carpet"
           }
          ],
          "choropleth": [
           {
            "colorbar": {
             "outlinewidth": 0,
             "ticks": ""
            },
            "type": "choropleth"
           }
          ],
          "contour": [
           {
            "colorbar": {
             "outlinewidth": 0,
             "ticks": ""
            },
            "colorscale": [
             [
              0,
              "#0d0887"
             ],
             [
              0.1111111111111111,
              "#46039f"
             ],
             [
              0.2222222222222222,
              "#7201a8"
             ],
             [
              0.3333333333333333,
              "#9c179e"
             ],
             [
              0.4444444444444444,
              "#bd3786"
             ],
             [
              0.5555555555555556,
              "#d8576b"
             ],
             [
              0.6666666666666666,
              "#ed7953"
             ],
             [
              0.7777777777777778,
              "#fb9f3a"
             ],
             [
              0.8888888888888888,
              "#fdca26"
             ],
             [
              1,
              "#f0f921"
             ]
            ],
            "type": "contour"
           }
          ],
          "contourcarpet": [
           {
            "colorbar": {
             "outlinewidth": 0,
             "ticks": ""
            },
            "type": "contourcarpet"
           }
          ],
          "heatmap": [
           {
            "colorbar": {
             "outlinewidth": 0,
             "ticks": ""
            },
            "colorscale": [
             [
              0,
              "#0d0887"
             ],
             [
              0.1111111111111111,
              "#46039f"
             ],
             [
              0.2222222222222222,
              "#7201a8"
             ],
             [
              0.3333333333333333,
              "#9c179e"
             ],
             [
              0.4444444444444444,
              "#bd3786"
             ],
             [
              0.5555555555555556,
              "#d8576b"
             ],
             [
              0.6666666666666666,
              "#ed7953"
             ],
             [
              0.7777777777777778,
              "#fb9f3a"
             ],
             [
              0.8888888888888888,
              "#fdca26"
             ],
             [
              1,
              "#f0f921"
             ]
            ],
            "type": "heatmap"
           }
          ],
          "histogram": [
           {
            "marker": {
             "pattern": {
              "fillmode": "overlay",
              "size": 10,
              "solidity": 0.2
             }
            },
            "type": "histogram"
           }
          ],
          "histogram2d": [
           {
            "colorbar": {
             "outlinewidth": 0,
             "ticks": ""
            },
            "colorscale": [
             [
              0,
              "#0d0887"
             ],
             [
              0.1111111111111111,
              "#46039f"
             ],
             [
              0.2222222222222222,
              "#7201a8"
             ],
             [
              0.3333333333333333,
              "#9c179e"
             ],
             [
              0.4444444444444444,
              "#bd3786"
             ],
             [
              0.5555555555555556,
              "#d8576b"
             ],
             [
              0.6666666666666666,
              "#ed7953"
             ],
             [
              0.7777777777777778,
              "#fb9f3a"
             ],
             [
              0.8888888888888888,
              "#fdca26"
             ],
             [
              1,
              "#f0f921"
             ]
            ],
            "type": "histogram2d"
           }
          ],
          "histogram2dcontour": [
           {
            "colorbar": {
             "outlinewidth": 0,
             "ticks": ""
            },
            "colorscale": [
             [
              0,
              "#0d0887"
             ],
             [
              0.1111111111111111,
              "#46039f"
             ],
             [
              0.2222222222222222,
              "#7201a8"
             ],
             [
              0.3333333333333333,
              "#9c179e"
             ],
             [
              0.4444444444444444,
              "#bd3786"
             ],
             [
              0.5555555555555556,
              "#d8576b"
             ],
             [
              0.6666666666666666,
              "#ed7953"
             ],
             [
              0.7777777777777778,
              "#fb9f3a"
             ],
             [
              0.8888888888888888,
              "#fdca26"
             ],
             [
              1,
              "#f0f921"
             ]
            ],
            "type": "histogram2dcontour"
           }
          ],
          "mesh3d": [
           {
            "colorbar": {
             "outlinewidth": 0,
             "ticks": ""
            },
            "type": "mesh3d"
           }
          ],
          "parcoords": [
           {
            "line": {
             "colorbar": {
              "outlinewidth": 0,
              "ticks": ""
             }
            },
            "type": "parcoords"
           }
          ],
          "pie": [
           {
            "automargin": true,
            "type": "pie"
           }
          ],
          "scatter": [
           {
            "fillpattern": {
             "fillmode": "overlay",
             "size": 10,
             "solidity": 0.2
            },
            "type": "scatter"
           }
          ],
          "scatter3d": [
           {
            "line": {
             "colorbar": {
              "outlinewidth": 0,
              "ticks": ""
             }
            },
            "marker": {
             "colorbar": {
              "outlinewidth": 0,
              "ticks": ""
             }
            },
            "type": "scatter3d"
           }
          ],
          "scattercarpet": [
           {
            "marker": {
             "colorbar": {
              "outlinewidth": 0,
              "ticks": ""
             }
            },
            "type": "scattercarpet"
           }
          ],
          "scattergeo": [
           {
            "marker": {
             "colorbar": {
              "outlinewidth": 0,
              "ticks": ""
             }
            },
            "type": "scattergeo"
           }
          ],
          "scattergl": [
           {
            "marker": {
             "colorbar": {
              "outlinewidth": 0,
              "ticks": ""
             }
            },
            "type": "scattergl"
           }
          ],
          "scattermap": [
           {
            "marker": {
             "colorbar": {
              "outlinewidth": 0,
              "ticks": ""
             }
            },
            "type": "scattermap"
           }
          ],
          "scattermapbox": [
           {
            "marker": {
             "colorbar": {
              "outlinewidth": 0,
              "ticks": ""
             }
            },
            "type": "scattermapbox"
           }
          ],
          "scatterpolar": [
           {
            "marker": {
             "colorbar": {
              "outlinewidth": 0,
              "ticks": ""
             }
            },
            "type": "scatterpolar"
           }
          ],
          "scatterpolargl": [
           {
            "marker": {
             "colorbar": {
              "outlinewidth": 0,
              "ticks": ""
             }
            },
            "type": "scatterpolargl"
           }
          ],
          "scatterternary": [
           {
            "marker": {
             "colorbar": {
              "outlinewidth": 0,
              "ticks": ""
             }
            },
            "type": "scatterternary"
           }
          ],
          "surface": [
           {
            "colorbar": {
             "outlinewidth": 0,
             "ticks": ""
            },
            "colorscale": [
             [
              0,
              "#0d0887"
             ],
             [
              0.1111111111111111,
              "#46039f"
             ],
             [
              0.2222222222222222,
              "#7201a8"
             ],
             [
              0.3333333333333333,
              "#9c179e"
             ],
             [
              0.4444444444444444,
              "#bd3786"
             ],
             [
              0.5555555555555556,
              "#d8576b"
             ],
             [
              0.6666666666666666,
              "#ed7953"
             ],
             [
              0.7777777777777778,
              "#fb9f3a"
             ],
             [
              0.8888888888888888,
              "#fdca26"
             ],
             [
              1,
              "#f0f921"
             ]
            ],
            "type": "surface"
           }
          ],
          "table": [
           {
            "cells": {
             "fill": {
              "color": "#EBF0F8"
             },
             "line": {
              "color": "white"
             }
            },
            "header": {
             "fill": {
              "color": "#C8D4E3"
             },
             "line": {
              "color": "white"
             }
            },
            "type": "table"
           }
          ]
         },
         "layout": {
          "annotationdefaults": {
           "arrowcolor": "#2a3f5f",
           "arrowhead": 0,
           "arrowwidth": 1
          },
          "autotypenumbers": "strict",
          "coloraxis": {
           "colorbar": {
            "outlinewidth": 0,
            "ticks": ""
           }
          },
          "colorscale": {
           "diverging": [
            [
             0,
             "#8e0152"
            ],
            [
             0.1,
             "#c51b7d"
            ],
            [
             0.2,
             "#de77ae"
            ],
            [
             0.3,
             "#f1b6da"
            ],
            [
             0.4,
             "#fde0ef"
            ],
            [
             0.5,
             "#f7f7f7"
            ],
            [
             0.6,
             "#e6f5d0"
            ],
            [
             0.7,
             "#b8e186"
            ],
            [
             0.8,
             "#7fbc41"
            ],
            [
             0.9,
             "#4d9221"
            ],
            [
             1,
             "#276419"
            ]
           ],
           "sequential": [
            [
             0,
             "#0d0887"
            ],
            [
             0.1111111111111111,
             "#46039f"
            ],
            [
             0.2222222222222222,
             "#7201a8"
            ],
            [
             0.3333333333333333,
             "#9c179e"
            ],
            [
             0.4444444444444444,
             "#bd3786"
            ],
            [
             0.5555555555555556,
             "#d8576b"
            ],
            [
             0.6666666666666666,
             "#ed7953"
            ],
            [
             0.7777777777777778,
             "#fb9f3a"
            ],
            [
             0.8888888888888888,
             "#fdca26"
            ],
            [
             1,
             "#f0f921"
            ]
           ],
           "sequentialminus": [
            [
             0,
             "#0d0887"
            ],
            [
             0.1111111111111111,
             "#46039f"
            ],
            [
             0.2222222222222222,
             "#7201a8"
            ],
            [
             0.3333333333333333,
             "#9c179e"
            ],
            [
             0.4444444444444444,
             "#bd3786"
            ],
            [
             0.5555555555555556,
             "#d8576b"
            ],
            [
             0.6666666666666666,
             "#ed7953"
            ],
            [
             0.7777777777777778,
             "#fb9f3a"
            ],
            [
             0.8888888888888888,
             "#fdca26"
            ],
            [
             1,
             "#f0f921"
            ]
           ]
          },
          "colorway": [
           "#636efa",
           "#EF553B",
           "#00cc96",
           "#ab63fa",
           "#FFA15A",
           "#19d3f3",
           "#FF6692",
           "#B6E880",
           "#FF97FF",
           "#FECB52"
          ],
          "font": {
           "color": "#2a3f5f"
          },
          "geo": {
           "bgcolor": "white",
           "lakecolor": "white",
           "landcolor": "#E5ECF6",
           "showlakes": true,
           "showland": true,
           "subunitcolor": "white"
          },
          "hoverlabel": {
           "align": "left"
          },
          "hovermode": "closest",
          "mapbox": {
           "style": "light"
          },
          "paper_bgcolor": "white",
          "plot_bgcolor": "#E5ECF6",
          "polar": {
           "angularaxis": {
            "gridcolor": "white",
            "linecolor": "white",
            "ticks": ""
           },
           "bgcolor": "#E5ECF6",
           "radialaxis": {
            "gridcolor": "white",
            "linecolor": "white",
            "ticks": ""
           }
          },
          "scene": {
           "xaxis": {
            "backgroundcolor": "#E5ECF6",
            "gridcolor": "white",
            "gridwidth": 2,
            "linecolor": "white",
            "showbackground": true,
            "ticks": "",
            "zerolinecolor": "white"
           },
           "yaxis": {
            "backgroundcolor": "#E5ECF6",
            "gridcolor": "white",
            "gridwidth": 2,
            "linecolor": "white",
            "showbackground": true,
            "ticks": "",
            "zerolinecolor": "white"
           },
           "zaxis": {
            "backgroundcolor": "#E5ECF6",
            "gridcolor": "white",
            "gridwidth": 2,
            "linecolor": "white",
            "showbackground": true,
            "ticks": "",
            "zerolinecolor": "white"
           }
          },
          "shapedefaults": {
           "line": {
            "color": "#2a3f5f"
           }
          },
          "ternary": {
           "aaxis": {
            "gridcolor": "white",
            "linecolor": "white",
            "ticks": ""
           },
           "baxis": {
            "gridcolor": "white",
            "linecolor": "white",
            "ticks": ""
           },
           "bgcolor": "#E5ECF6",
           "caxis": {
            "gridcolor": "white",
            "linecolor": "white",
            "ticks": ""
           }
          },
          "title": {
           "x": 0.05
          },
          "xaxis": {
           "automargin": true,
           "gridcolor": "white",
           "linecolor": "white",
           "ticks": "",
           "title": {
            "standoff": 15
           },
           "zerolinecolor": "white",
           "zerolinewidth": 2
          },
          "yaxis": {
           "automargin": true,
           "gridcolor": "white",
           "linecolor": "white",
           "ticks": "",
           "title": {
            "standoff": 15
           },
           "zerolinecolor": "white",
           "zerolinewidth": 2
          }
         }
        },
        "title": {
         "text": "Loop Time Histogram"
        },
        "width": 1000,
        "xaxis": {
         "title": {
          "text": "[us]"
         }
        },
        "yaxis": {
         "range": [
          0,
          8.06816245746846
         ],
         "tickvals": [
          1,
          10,
          100,
          1000,
          10000,
          100000
         ],
         "title": {
          "text": "#"
         },
         "type": "log"
        }
       }
      }
     },
     "metadata": {},
     "output_type": "display_data"
    }
   ],
   "source": [
    "# Load data\n",
    "hist_df = pd.read_csv(\"hist.csv\", header=None)\n",
    "num_t = hist_df.iloc[-1, :].values\n",
    "t = np.linspace(0, len(num_t), len(num_t))\n",
    "\n",
    "# Create Plotly figure\n",
    "fig = go.Figure()\n",
    "\n",
    "fig.add_trace(go.Scatter(\n",
    "    x=t,\n",
    "    y=num_t,\n",
    "    mode='lines',\n",
    "    name='Loop Time',\n",
    "))\n",
    "\n",
    "# Set y-axis to symlog equivalent using log scaling with a small offset\n",
    "fig.update_yaxes(\n",
    "    type='log',\n",
    "    title='#',\n",
    "    tickvals=[1, 10, 100, 1000, 10000, 100000],\n",
    "    range=[0, np.log10(max(num_t)+1)]\n",
    ")\n",
    "\n",
    "# Set layout\n",
    "fig.update_layout(\n",
    "    title='Loop Time Histogram',\n",
    "    xaxis_title='[us]',\n",
    "    yaxis_title='#',\n",
    "    width=1000,\n",
    "    height=600\n",
    ")\n",
    "\n",
    "# Show interactive plot\n",
    "fig.show()"
   ]
  },
  {
   "cell_type": "code",
   "execution_count": null,
   "metadata": {},
   "outputs": [],
   "source": []
  }
 ],
 "metadata": {
  "kernelspec": {
   "display_name": "Python 3",
   "language": "python",
   "name": "python3"
  },
  "language_info": {
   "codemirror_mode": {
    "name": "ipython",
    "version": 3
   },
   "file_extension": ".py",
   "mimetype": "text/x-python",
   "name": "python",
   "nbconvert_exporter": "python",
   "pygments_lexer": "ipython3",
   "version": "3.8.10"
  }
 },
 "nbformat": 4,
 "nbformat_minor": 2
}
